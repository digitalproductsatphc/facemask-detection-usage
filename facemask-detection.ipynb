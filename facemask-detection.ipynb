{
 "cells": [
  {
   "cell_type": "markdown",
   "metadata": {},
   "source": [
    "# Facemask Detection - AWS Marketplace Model Package\n",
    "\n",
    "This app will count the number of people in the frame,number of peoople wearing mask and number of people not wearing mask using deep Learning.\n",
    "\n",
    "This notebook is provided as an additional resource to assist you in deploying facemask detection"
   ]
  },
  {
   "cell_type": "markdown",
   "metadata": {},
   "source": [
    "## Subscribe to the Model Package\n",
    "Before you can deploy the model, your account needs to be subscribed to it.\n",
    "\n",
    "1. Open the Model Package listing page\n",
    "2. Read the product overview section and Highlights section to understand the value proposition of our model package.\n",
    "3. View usage information and then additional resources sections. \n",
    "4. Click on Continue to Subscribe button & then Click on \"Accept Offer\" button on the next page.\n",
    "5. Next, Continue to Configuration button becomes activated and when you click on the button, you will see that a Product Arn will appear.\n",
    "6. You have successfully subscribed to our model package. You can find it in your [SageMaker console](https://console.aws.amazon.com/sagemaker/home?region=us-east-1#/model-packages/my-subscriptions).\n",
    "7. Close the page and continue executing this notebook.\n"
   ]
  },
  {
   "cell_type": "markdown",
   "metadata": {},
   "source": [
    "## Imports"
   ]
  },
  {
   "cell_type": "code",
   "execution_count": 1,
   "metadata": {},
   "outputs": [],
   "source": [
    "import sagemaker as sage\n",
    "import os\n",
    "import boto3\n",
    "from sagemaker import get_execution_role\n",
    "from sagemaker import transformer\n",
    "from sagemaker import model\n",
    "\n",
    "role = get_execution_role()"
   ]
  },
  {
   "cell_type": "markdown",
   "metadata": {},
   "source": [
    "## Create the session\n",
    "\n",
    "The session remembers our connection parameters to Amazon SageMaker. We'll use it to perform all of our SageMaker operations."
   ]
  },
  {
   "cell_type": "code",
   "execution_count": 2,
   "metadata": {},
   "outputs": [
    {
     "data": {
      "text/plain": [
       "'us-east-2'"
      ]
     },
     "execution_count": 2,
     "metadata": {},
     "output_type": "execute_result"
    }
   ],
   "source": [
    "sess = sage.Session()\n",
    "\n",
    "account = sess.boto_session.client('sts').get_caller_identity()['Account']\n",
    "region = sess.boto_session.region_name\n",
    "region"
   ]
  },
  {
   "cell_type": "markdown",
   "metadata": {},
   "source": [
    "## Create Model\n",
    "\n",
    "Now we use the License Plate Detection & Recognition Model Package to create a model."
   ]
  },
  {
   "cell_type": "code",
   "execution_count": 5,
   "metadata": {},
   "outputs": [],
   "source": [
    "from src.model_package_arns import ModelPackageArnProvider"
   ]
  },
  {
   "cell_type": "code",
   "execution_count": 6,
   "metadata": {},
   "outputs": [
    {
     "name": "stderr",
     "output_type": "stream",
     "text": [
      "Parameter image will be renamed to image_uri in SageMaker Python SDK v2.\n"
     ]
    },
    {
     "name": "stdout",
     "output_type": "stream",
     "text": [
      "arn:aws:sagemaker:us-east-2:165536952993:model-package/facemask-1595876962\n"
     ]
    }
   ],
   "source": [
    "from sagemaker import ModelPackage\n",
    "modelpackage_arn = ModelPackageArnProvider.get_model_package_arn(sess.boto_region_name)\n",
    "\n",
    "# Define predictor wrapper class\n",
    "def predict_wrapper(endpoint, session):\n",
    "    return sage.RealTimePredictor(endpoint, session, content_type='video/webm')\n",
    "\n",
    "# Create a deployable model\n",
    "model = ModelPackage(role=role,\n",
    "                                      model_package_arn = modelpackage_arn,\n",
    "                                      sagemaker_session = sess,\n",
    "                                      predictor_cls = predict_wrapper)\n",
    "# ARN\n",
    "print(modelpackage_arn)"
   ]
  },
  {
   "cell_type": "markdown",
   "metadata": {},
   "source": [
    "## Live Inference Endpoint\n",
    "\n",
    "Now we demonstrate the creation of an endpoint for live inference"
   ]
  },
  {
   "cell_type": "code",
   "execution_count": 7,
   "metadata": {},
   "outputs": [
    {
     "name": "stdout",
     "output_type": "stream",
     "text": [
      "-------------!"
     ]
    }
   ],
   "source": [
    "# Deploy the model\n",
    "predictor = model.deploy(1, 'ml.m4.xlarge', endpoint_name='facemask-detection')"
   ]
  },
  {
   "cell_type": "markdown",
   "metadata": {},
   "source": [
    "## Testing on a Single Image File \n",
    "\n",
    "The model takes an image file (.jpg/.png) as input. We give the location of the sample input file and prepare it for payload. An example has been shown in the following code shell.\n"
   ]
  },
  {
   "cell_type": "code",
   "execution_count": 8,
   "metadata": {},
   "outputs": [],
   "source": [
    "file_name = 'data/sample.webm'"
   ]
  },
  {
   "cell_type": "code",
   "execution_count": 9,
   "metadata": {},
   "outputs": [],
   "source": [
    "endpoint_name='facemask-inference'"
   ]
  },
  {
   "cell_type": "markdown",
   "metadata": {},
   "source": [
    "### Preparing the Input Payload and Viewing the Response"
   ]
  },
  {
   "cell_type": "code",
   "execution_count": 10,
   "metadata": {},
   "outputs": [
    {
     "name": "stdout",
     "output_type": "stream",
     "text": [
      "                           with_masks no_masks total_number\n",
      "2020-07-27 19:43:12.286568          0        0            0\n",
      "2020-07-27 19:43:12.387708          0        0            0\n",
      "2020-07-27 19:43:12.470262          0        0            0\n",
      "2020-07-27 19:43:12.567911          0        0            0\n",
      "2020-07-27 19:43:12.662137          0        0            0\n",
      "2020-07-27 19:43:12.742550          0        0            0\n",
      "2020-07-27 19:43:12.824187          0        0            0\n",
      "2020-07-27 19:43:12.915022          0        0            0\n",
      "2020-07-27 19:43:13.008136          0        0            0\n",
      "2020-07-27 19:43:13.088725          0        0            0\n",
      "2020-07-27 19:43:13.188355          0        0            0\n",
      "2020-07-27 19:43:13.301181          0        0            0\n",
      "2020-07-27 19:43:13.400942          0        0            0\n",
      "2020-07-27 19:43:13.483008          0        0            0\n",
      "2020-07-27 19:43:13.565271          0        0            0\n",
      "2020-07-27 19:43:13.646001          0        0            0\n",
      "2020-07-27 19:43:13.727436          0        0            0\n",
      "2020-07-27 19:43:13.808286          0        0            0\n",
      "2020-07-27 19:43:13.890083          0        0            0\n",
      "2020-07-27 19:43:13.978505          0        0            0\n",
      "2020-07-27 19:43:14.066448          0        0            0\n",
      "2020-07-27 19:43:14.148830          0        0            0\n",
      "2020-07-27 19:43:14.270323          0        0            0\n",
      "2020-07-27 19:43:14.363949          0        0            0\n",
      "2020-07-27 19:43:14.445394          0        0            0\n",
      "2020-07-27 19:43:14.559539          0        0            0\n",
      "2020-07-27 19:43:14.658110          0        0            0\n",
      "2020-07-27 19:43:14.754033          0        0            0\n",
      "2020-07-27 19:43:14.855204          0        0            0\n",
      "2020-07-27 19:43:14.935598          0        0            0\n",
      "...                               ...      ...          ...\n",
      "2020-07-27 19:43:21.831896          0        0            0\n",
      "2020-07-27 19:43:21.926337          0        0            0\n",
      "2020-07-27 19:43:22.018263          0        0            0\n",
      "2020-07-27 19:43:22.122319          0        0            0\n",
      "2020-07-27 19:43:22.222900          0        0            0\n",
      "2020-07-27 19:43:22.315757          0        0            0\n",
      "2020-07-27 19:43:22.415115          0        0            0\n",
      "2020-07-27 19:43:22.520672          0        0            0\n",
      "2020-07-27 19:43:22.616107          0        0            0\n",
      "2020-07-27 19:43:22.713127          0        0            0\n",
      "2020-07-27 19:43:22.809590          0        0            0\n",
      "2020-07-27 19:43:22.902904          0        0            0\n",
      "2020-07-27 19:43:22.995368          0        0            0\n",
      "2020-07-27 19:43:23.107352          0        0            0\n",
      "2020-07-27 19:43:23.203173          0        0            0\n",
      "2020-07-27 19:43:23.303066          0        0            0\n",
      "2020-07-27 19:43:23.397824          0        0            0\n",
      "2020-07-27 19:43:23.489911          0        0            0\n",
      "2020-07-27 19:43:23.579337          0        0            0\n",
      "2020-07-27 19:43:23.682514          0        0            0\n",
      "2020-07-27 19:43:23.785474          0        0            0\n",
      "2020-07-27 19:43:23.888847          1        0            1\n",
      "2020-07-27 19:43:23.981714          0        0            0\n",
      "2020-07-27 19:43:24.067123          0        0            0\n",
      "2020-07-27 19:43:24.172631          0        0            0\n",
      "2020-07-27 19:43:24.265314          0        0            0\n",
      "2020-07-27 19:43:24.364650          0        0            0\n",
      "2020-07-27 19:43:24.462686          0        0            0\n",
      "2020-07-27 19:43:24.541772          0        0            0\n",
      "2020-07-27 19:43:24.655009          0        0            0\n",
      "\n",
      "[136 rows x 3 columns]\n"
     ]
    }
   ],
   "source": [
    "# Open the file and read the image into a bytearray.\n",
    "with open(file_name, \"rb\") as image:\n",
    "  b = bytearray(image.read())\n",
    "\n",
    "# Perform a prediction\n",
    "result = predictor.predict(b).decode('utf-8')\n",
    "\n",
    "with open(\"data/output.txt\", \"w\") as text_file:\n",
    "    text_file.write(result)\n",
    "    \n",
    "# View the prediction\n",
    "print(result)"
   ]
  },
  {
   "cell_type": "markdown",
   "metadata": {},
   "source": [
    "### Delete the Endpoint\n",
    "\n",
    "\n",
    "Now that you have successfully performed a real-time inference, you do not need the endpoint any more. you can terminate the same to avoid being charged.\n"
   ]
  },
  {
   "cell_type": "code",
   "execution_count": null,
   "metadata": {},
   "outputs": [],
   "source": [
    "predictor = sage.RealTimePredictor(endpoint_name, sess, content_type='video/webm')\n",
    "predictor.delete_endpoint(delete_endpoint_config=True)"
   ]
  }
 ],
 "metadata": {
  "kernelspec": {
   "display_name": "conda_python3",
   "language": "python",
   "name": "conda_python3"
  },
  "language_info": {
   "codemirror_mode": {
    "name": "ipython",
    "version": 3
   },
   "file_extension": ".py",
   "mimetype": "text/x-python",
   "name": "python",
   "nbconvert_exporter": "python",
   "pygments_lexer": "ipython3",
   "version": "3.6.10"
  }
 },
 "nbformat": 4,
 "nbformat_minor": 2
}
